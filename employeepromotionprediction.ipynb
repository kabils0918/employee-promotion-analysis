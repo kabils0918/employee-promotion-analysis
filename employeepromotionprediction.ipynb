{
 "cells": [
  {
   "cell_type": "markdown",
   "id": "f0eb8f2f-e8c2-471b-b0c4-f0cec86f9124",
   "metadata": {},
   "source": [
    "# Predicting Employee Promotions\n",
    "\n",
    "This project aims to predict whether an employee will be promoted based on their historical and organizational data. This notebook follows a step-by-step approach for a machine learning project."
   ]
  },
  {
   "cell_type": "markdown",
   "id": "c2fe5159-bab3-4cc4-8c05-29d4ec07758e",
   "metadata": {},
   "source": [
    "## imported libraries"
   ]
  },
  {
   "cell_type": "code",
   "execution_count": null,
   "id": "e4d981fc-01a4-449b-9c64-80a3d6bf5691",
   "metadata": {},
   "outputs": [],
   "source": [
    "import numpy as np\n",
    "import pandas as pd\n",
    "from numpy import random\n",
    "import os\n",
    "import matplotlib.pyplot as plt\n",
    "import seaborn as sns\n",
    "import warnings\n",
    "warnings.filterwarnings('ignore')\n",
    "import plotly.express as px"
   ]
  },
  {
   "cell_type": "markdown",
   "id": "b4b65f95-43e5-4cca-815f-1c02123bee99",
   "metadata": {},
   "source": [
    "## load dataset"
   ]
  },
  {
   "cell_type": "code",
   "execution_count": null,
   "id": "04e1d010-4cab-4452-a0b0-4fdd03716063",
   "metadata": {},
   "outputs": [],
   "source": [
    "print(os.path.isfile('employee_promotion.csv'))  # return True if the file exists\n"
   ]
  },
  {
   "cell_type": "code",
   "execution_count": null,
   "id": "99dc0e09-f7d1-47c6-9af8-a1697c16b5c7",
   "metadata": {},
   "outputs": [],
   "source": [
    "df= pd.read_csv(\"employee_promotion.csv\")\n",
    "df\n"
   ]
  },
  {
   "cell_type": "markdown",
   "id": "b7118b7f-380b-45ef-97f6-c8aa31bb4a63",
   "metadata": {},
   "source": [
    "## Data Preprocessing"
   ]
  },
  {
   "cell_type": "code",
   "execution_count": null,
   "id": "0a18172a-4900-48d0-bb05-7cf2a4a8a5ea",
   "metadata": {},
   "outputs": [],
   "source": [
    "df.head()"
   ]
  },
  {
   "cell_type": "code",
   "execution_count": null,
   "id": "f1f01435-4926-49fb-b72a-b6c7ccc5234a",
   "metadata": {},
   "outputs": [],
   "source": [
    "df.interpolate(inplace=False)"
   ]
  },
  {
   "cell_type": "code",
   "execution_count": null,
   "id": "cf8b8cff-d6b9-4082-9363-bdf7fbdd0bc1",
   "metadata": {},
   "outputs": [],
   "source": [
    "df.info()"
   ]
  },
  {
   "cell_type": "code",
   "execution_count": null,
   "id": "8d2ff509-ee25-4ca2-8d84-525fd1c7f3c5",
   "metadata": {},
   "outputs": [],
   "source": [
    "df.tail()"
   ]
  },
  {
   "cell_type": "code",
   "execution_count": null,
   "id": "3eb17aef-d4cb-484b-9ad5-eb9b12c17f20",
   "metadata": {},
   "outputs": [],
   "source": [
    "df.info()"
   ]
  },
  {
   "cell_type": "code",
   "execution_count": null,
   "id": "9a2b263f-b899-4928-abec-d87d53e1f59c",
   "metadata": {},
   "outputs": [],
   "source": [
    "#group by \n",
    "df = pd.read_csv(\"employee_promotion.csv\")\n",
    "empgby = df.groupby(['education']).size()\n",
    "gby=pd.DataFrame(empgby)\n",
    "gby"
   ]
  },
  {
   "cell_type": "code",
   "execution_count": null,
   "id": "3f0a3b48-a5f4-47d8-9f3c-4fc83a368ae2",
   "metadata": {},
   "outputs": [],
   "source": [
    "#group by two columns\n",
    "empqtr = df.groupby(['department', 'education']).size()\n",
    "grpqrt=pd.DataFrame(empqtr)\n",
    "grpqrt"
   ]
  },
  {
   "cell_type": "code",
   "execution_count": null,
   "id": "d82a59f6-9a45-4409-bd45-54c398d60465",
   "metadata": {},
   "outputs": [],
   "source": [
    "df.columns"
   ]
  },
  {
   "cell_type": "code",
   "execution_count": null,
   "id": "e100db35-f64e-4214-aa8b-0a1e4cdc72e5",
   "metadata": {},
   "outputs": [],
   "source": [
    "# Calculates the average training score for each department\n",
    "df.columns = df.columns.str.strip()\n",
    "avgtrain = df.groupby('department')['avg_training_score'].mean()\n",
    "print(avgtrain)"
   ]
  },
  {
   "cell_type": "code",
   "execution_count": null,
   "id": "9be908a2-2a56-4ea1-bf83-2d5d30aff2b1",
   "metadata": {},
   "outputs": [],
   "source": [
    "high_scores = df[df['avg_training_score'] > 60]  # Filter rows where avg_training_score > 60\n",
    "high_scores"
   ]
  },
  {
   "cell_type": "code",
   "execution_count": null,
   "id": "bfb8e2c9-5e0b-4aa3-9f15-02c4590945ee",
   "metadata": {},
   "outputs": [],
   "source": [
    "sorted_df = df.sort_values(by='avg_training_score', ascending=False)\n",
    "sorted_df"
   ]
  },
  {
   "cell_type": "code",
   "execution_count": null,
   "id": "731bebba-23d9-4d3d-8bf0-bf7e43ac6b41",
   "metadata": {},
   "outputs": [],
   "source": [
    "#Aggregation \n",
    "#Combine data into meaningful summaries using functions like sum, mean, count\n",
    "summary = df.groupby('department').agg({\n",
    "    'avg_training_score': 'mean',\n",
    "    'previous_year_rating': 'max',\n",
    "    \n",
    "})\n",
    "summary"
   ]
  },
  {
   "cell_type": "code",
   "execution_count": null,
   "id": "79597c4d-81f0-435f-b51e-efd3db62e647",
   "metadata": {},
   "outputs": [],
   "source": [
    "#Pivot Tables\n",
    "#Similar to Excel,it summarizes data with rows, columns, and values\n",
    "\n",
    "#Create a pivot table to see promotions by department and gender\n",
    "pivot = df.pivot_table(values='is_promoted', index='department', columns='gender', aggfunc='sum')\n",
    "pivot\n"
   ]
  },
  {
   "cell_type": "code",
   "execution_count": null,
   "id": "3bb74de2-d3e7-43ca-86b3-69321c5bb82d",
   "metadata": {},
   "outputs": [],
   "source": [
    "#handling Missing Data (isna(), fillna(), dropna())\n",
    "#Check, clean, or replace missing values.\n",
    "\n",
    "#Example:\n",
    "\n",
    "#Find missing values\n",
    "\n",
    "df.isna().sum()"
   ]
  },
  {
   "cell_type": "code",
   "execution_count": null,
   "id": "6db3fd98-ce8a-41f5-ba41-55a1efc2d165",
   "metadata": {},
   "outputs": [],
   "source": [
    "df.dropna(inplace=True)"
   ]
  },
  {
   "cell_type": "code",
   "execution_count": null,
   "id": "c418e44a-d62f-40fc-b63d-c7f3cb1d395c",
   "metadata": {},
   "outputs": [],
   "source": [
    "df.isna().sum()"
   ]
  },
  {
   "cell_type": "code",
   "execution_count": null,
   "id": "b0e5fa7b-c6ae-425d-a2d1-0e7799a50b9d",
   "metadata": {},
   "outputs": [],
   "source": [
    "df.isna().sum()"
   ]
  },
  {
   "cell_type": "code",
   "execution_count": null,
   "id": "192dc507-8d7f-42fc-96d0-2dadda3182d8",
   "metadata": {},
   "outputs": [],
   "source": [
    "#selecting specific data\n",
    "selected_data = df[['department', 'education', 'avg_training_score']]\n",
    "selected_data"
   ]
  },
  {
   "cell_type": "markdown",
   "id": "47a8f7f8-aacb-40e2-be2d-b29dd6a2e93d",
   "metadata": {},
   "source": [
    "## Data Visualization"
   ]
  },
  {
   "cell_type": "code",
   "execution_count": null,
   "id": "1a111ffb-38a8-4368-b08c-e8dbfb5a6761",
   "metadata": {},
   "outputs": [],
   "source": [
    "df = pd.read_csv(\"employee_promotion.csv\")\n",
    "plt.scatter(df['avg_training_score'], df['previous_year_rating'],color='green')\n",
    "plt.title(\"Scatter Plot\")\n",
    "plt.xlabel('avg_training_score')\n",
    "plt.ylabel('previous_year_rating')\n",
    "plt.show()"
   ]
  },
  {
   "cell_type": "code",
   "execution_count": null,
   "id": "c5ec72a0-a34d-43ca-aba8-2c41563560c4",
   "metadata": {},
   "outputs": [],
   "source": [
    "# Plotting a histogram for average training scores\n",
    "plt.hist(df['avg_training_score'], bins=10, color='skyblue', edgecolor='black')\n",
    "plt.title('Distribution of Average Training Scores')\n",
    "plt.xlabel('Average Training Score')\n",
    "plt.ylabel('Frequency')\n",
    "plt.show()"
   ]
  },
  {
   "cell_type": "code",
   "execution_count": null,
   "id": "77f80c69-5eba-4d10-b0e0-cb47f163f2a5",
   "metadata": {},
   "outputs": [],
   "source": [
    "#correlation heatmap\n",
    "\n",
    "\n",
    "# Calculate correlation matrix\n",
    "corr_matrix = df[['avg_training_score', 'previous_year_rating', 'is_promoted']].corr()\n",
    "\n",
    "# Plot heatmap\n",
    "sns.heatmap(corr_matrix, annot=True, cmap='coolwarm', fmt='.2f', linewidths=0.5)\n",
    "plt.title('Correlation Heatmap')\n",
    "plt.show()"
   ]
  },
  {
   "cell_type": "code",
   "execution_count": null,
   "id": "6352e44d-ee3f-4118-96d5-f6f3878df112",
   "metadata": {},
   "outputs": [],
   "source": [
    "#Box Plot: To visualize the spread and identify outliers\n",
    "#Box plots are useful for checking the distribution and spotting outliers in a numerical column.\n",
    "#Example:\n",
    "# Box plot for previous year ratings\n",
    "plt.boxplot(df['previous_year_rating'].dropna(), vert=False, patch_artist=True, \n",
    "            boxprops=dict(facecolor='lightblue', color='black'),\n",
    "            whiskerprops=dict(color='black'), flierprops=dict(markerfacecolor='red', marker='o', markersize=8))\n",
    "plt.title('Boxplot of Previous Year Ratings')\n",
    "plt.xlabel('Previous Year Rating')\n",
    "plt.show()"
   ]
  },
  {
   "cell_type": "code",
   "execution_count": null,
   "id": "4d1aad79-f12e-49e4-9b25-bfe3e9c6f0e9",
   "metadata": {},
   "outputs": [],
   "source": [
    "# Pie chart for promotion status (Promoted vs Not Promoted)\n",
    "promotion_counts = df['is_promoted'].value_counts()\n",
    "promotion_counts.plot(kind='pie', autopct='%1.1f%%', colors=['blue', 'lightblue'])\n",
    "plt.title('Promotion Status Distribution')\n",
    "plt.ylabel('')  # Remove y-axis label for better appearance\n",
    "plt.show()\n"
   ]
  },
  {
   "cell_type": "code",
   "execution_count": null,
   "id": "247d2cf5-d992-4cdf-93fa-5c27c682d8f0",
   "metadata": {},
   "outputs": [],
   "source": [
    "# Bar chart for promotion counts by department\n",
    "promotion_by_dept = df.groupby('department')['is_promoted'].sum()\n",
    "promotion_by_dept.plot(kind='bar', color='lightgreen')\n",
    "plt.title('Promotions by Department')\n",
    "plt.xlabel('Department')\n",
    "plt.ylabel('Number of Promotions')\n",
    "plt.xticks(rotation=45)  # Rotate x-axis labels for better visibility\n",
    "plt.show()"
   ]
  },
  {
   "cell_type": "code",
   "execution_count": null,
   "id": "cd094311-c140-45c0-92b1-8beaca9c8bea",
   "metadata": {},
   "outputs": [],
   "source": [
    "# Grouping by education and plotting the average rating\n",
    "education_avg_rating = df.groupby('education')['previous_year_rating'].mean()\n",
    "\n",
    "education_avg_rating.plot(kind='bar', color='skyblue')\n",
    "plt.title('Average Rating by Education')\n",
    "plt.xlabel('Education Level')\n",
    "plt.ylabel('Average Rating')\n",
    "plt.xticks(rotation=45)\n",
    "plt.show()"
   ]
  },
  {
   "cell_type": "code",
   "execution_count": null,
   "id": "64a870e0-c442-4ddf-ba68-db586913ac13",
   "metadata": {},
   "outputs": [],
   "source": [
    "# Count plot for gender distribution using 'hue' (no actual grouping by 'hue')\n",
    "sns.countplot(x='gender', data=df, hue='gender', palette='Set2')\n",
    "plt.title('Gender Distribution')\n",
    "plt.xlabel('Gender')\n",
    "plt.ylabel('Count')\n",
    "plt.show()"
   ]
  },
  {
   "cell_type": "code",
   "execution_count": null,
   "id": "638f61d1-b05a-4caa-a331-76a0f19e57c1",
   "metadata": {},
   "outputs": [],
   "source": [
    "# Stacked bar chart for promotion status by department\n",
    "promotion_by_dept = df.groupby(['department', 'is_promoted']).size().unstack()\n",
    "promotion_by_dept.plot(kind='bar', stacked=True, color=['lightcoral', 'lightgreen'])\n",
    "plt.title('Promotion Status by Department (Stacked)')\n",
    "plt.xlabel('Department')\n",
    "plt.ylabel('Number of Employees')\n",
    "plt.xticks(rotation=45)\n",
    "plt.show()"
   ]
  },
  {
   "cell_type": "code",
   "execution_count": null,
   "id": "6f784a73-3dc3-422b-8082-a992da20333f",
   "metadata": {},
   "outputs": [],
   "source": [
    "df = pd.read_csv(\"employee_promotion.csv\")\n",
    "df"
   ]
  },
  {
   "cell_type": "code",
   "execution_count": null,
   "id": "3641be57-8183-4895-8683-21af99672cee",
   "metadata": {},
   "outputs": [],
   "source": [
    "sns.set_theme(style=\"darkgrid\")\n",
    "plt.Figure(figsize=(20,1000))\n",
    "sns.relplot(data=df, x=\"department\", y=\"education\", height=6, aspect=1.5)  # Height=6 inches, Aspect=1.5 (width)\n",
    "plt.show()\n"
   ]
  },
  {
   "cell_type": "code",
   "execution_count": null,
   "id": "a6ec08b9-e79c-4cb7-b4a8-7795d7175d9e",
   "metadata": {},
   "outputs": [],
   "source": [
    "# x and y given as array_like objects\n",
    "import plotly.express as px\n",
    "fig = px.scatter(df, x='department', y='education', title=\"Scatter Plot of Department vs Education\")\n",
    "fig.show()"
   ]
  },
  {
   "cell_type": "code",
   "execution_count": null,
   "id": "cb7f898e-0139-48f5-849c-0cafae8039bf",
   "metadata": {},
   "outputs": [],
   "source": [
    "# x and y given as array_like objects\n",
    "import plotly.express as px\n",
    "fig = px.bar(df, x='education', y='employee_id', title=\"Scatter Plot of Department vs Education\")\n",
    "fig.show()"
   ]
  },
  {
   "cell_type": "code",
   "execution_count": null,
   "id": "5e2050eb-7406-47e9-b098-ed210e98facd",
   "metadata": {},
   "outputs": [],
   "source": [
    "plt.figure(figsize=(8,8))\n",
    "sns.barplot(x='education',y='employee_id',hue='is_promoted', data=df)\n",
    "plt.show()\n",
    "\n"
   ]
  },
  {
   "cell_type": "code",
   "execution_count": null,
   "id": "d8cb5851-27e1-4035-80df-1f45f272f06f",
   "metadata": {},
   "outputs": [],
   "source": [
    "sns.countplot(x='gender',data=df,palette='Greens_d')"
   ]
  },
  {
   "cell_type": "code",
   "execution_count": null,
   "id": "935a2d27-500b-44c3-9e49-d7efb90a8cae",
   "metadata": {},
   "outputs": [],
   "source": [
    "plt.figure(figsize=(17,6))\n",
    "sns.violinplot(x='age',y='gender',hue='is_promoted',data=df)\n",
    "plt.show()"
   ]
  },
  {
   "cell_type": "code",
   "execution_count": null,
   "id": "c242447f-3247-4427-965b-16240bd35870",
   "metadata": {},
   "outputs": [],
   "source": [
    "px.pie(df,values='awards_won',names='education',template='plotly_dark')"
   ]
  },
  {
   "cell_type": "code",
   "execution_count": null,
   "id": "0f982af0-5b54-4cfc-96c5-0d5104616776",
   "metadata": {},
   "outputs": [],
   "source": [
    "px.violin(df,df['department'],template='plotly_dark')\n"
   ]
  },
  {
   "cell_type": "code",
   "execution_count": null,
   "id": "1cee0b45-e72f-42ed-8ed0-e7c964d370e0",
   "metadata": {},
   "outputs": [],
   "source": [
    "px.box(df,df['age'],df['length_of_service'],color='gender',title='Length of Service',template='plotly_dark')\n"
   ]
  },
  {
   "cell_type": "code",
   "execution_count": null,
   "id": "c95aa44b-1f38-444a-8cb3-30491f833862",
   "metadata": {},
   "outputs": [],
   "source": [
    "px.pie(df,values='is_promoted',names='department',template = 'plotly_dark')"
   ]
  },
  {
   "cell_type": "code",
   "execution_count": null,
   "id": "b180f808-e901-47b0-bb29-db5c8c464269",
   "metadata": {},
   "outputs": [],
   "source": [
    "px.violin(df,df['department'],df['awards_won'],color='department',title='Departments - Awards_won',template='plotly_dark')"
   ]
  },
  {
   "cell_type": "code",
   "execution_count": null,
   "id": "df411297-9fe6-48d1-86fe-20e138462487",
   "metadata": {},
   "outputs": [],
   "source": [
    "df"
   ]
  },
  {
   "cell_type": "code",
   "execution_count": null,
   "id": "82825f58-8679-4d0c-acba-4fd7eead54a7",
   "metadata": {},
   "outputs": [],
   "source": [
    "col=['department','region','recruitment_channel','education']\n",
    "\n",
    "for i in col:\n",
    "    print(i)\n",
    "    print(df[i].unique())\n",
    "    print(df[i].nunique())\n",
    "    print()"
   ]
  },
  {
   "cell_type": "code",
   "execution_count": null,
   "id": "17881e39-3aed-4358-9a60-3ef2f2238540",
   "metadata": {},
   "outputs": [],
   "source": [
    "df"
   ]
  },
  {
   "cell_type": "code",
   "execution_count": null,
   "id": "6521db23-3aeb-47ac-9159-353c33774598",
   "metadata": {},
   "outputs": [],
   "source": [
    "df.info()"
   ]
  },
  {
   "cell_type": "code",
   "execution_count": null,
   "id": "32981239-7e25-41a3-bdf5-a39ddd78ffec",
   "metadata": {},
   "outputs": [],
   "source": [
    "numeric_df =df.select_dtypes(include=['number'])  # Select numeric columns only\n",
    "numeric_df.corr()\n"
   ]
  },
  {
   "cell_type": "code",
   "execution_count": null,
   "id": "2ba7b46b-bed5-4ad3-a62a-73e0cfeef91a",
   "metadata": {},
   "outputs": [],
   "source": [
    "plt.figure(figsize=(12,7))\n",
    "sns.heatmap(numeric_df.corr(),annot=True,cmap='Blues')\n",
    "plt.show()"
   ]
  },
  {
   "cell_type": "markdown",
   "id": "07f89100-7ef3-44a5-ab22-288b45613241",
   "metadata": {},
   "source": [
    "## Label Encoding"
   ]
  },
  {
   "cell_type": "code",
   "execution_count": null,
   "id": "1c9a531d-2a04-46e7-86ac-2373db299a9d",
   "metadata": {},
   "outputs": [],
   "source": [
    "from sklearn.preprocessing import LabelEncoder\n",
    "l = LabelEncoder()\n",
    "for i in df.columns:\n",
    "    if df[i].dtype == \"object\":\n",
    "        df[i] = l.fit_transform(df[i])\n",
    "\n",
    "df.head()"
   ]
  },
  {
   "cell_type": "markdown",
   "id": "8a30a823-fe11-4b50-b908-5b107c654499",
   "metadata": {},
   "source": [
    "## Algorithms and Model Implementation"
   ]
  },
  {
   "cell_type": "code",
   "execution_count": null,
   "id": "5daffb14-57d8-4758-87f0-02f2859cd601",
   "metadata": {},
   "outputs": [],
   "source": [
    "x = df.drop('is_promoted', axis=1)\n",
    "y = df['is_promoted']\n",
    "\n"
   ]
  },
  {
   "cell_type": "code",
   "execution_count": null,
   "id": "0ff74588-b6af-4e22-b65c-ab1f9d5591e5",
   "metadata": {},
   "outputs": [],
   "source": [
    "from sklearn.model_selection import train_test_split\n",
    "xtrain, xtest, ytrain, ytest = train_test_split(x, y, test_size=0.30)\n"
   ]
  },
  {
   "cell_type": "code",
   "execution_count": null,
   "id": "c935d46a-64a1-4057-b6b1-6cb6604ef8f7",
   "metadata": {},
   "outputs": [],
   "source": [
    "from sklearn.preprocessing import MinMaxScaler\n",
    "mms = MinMaxScaler(feature_range=(0, 1))\n",
    "xtrain = mms.fit_transform(xtrain)\n",
    "xtest = mms.fit_transform(xtest)\n",
    "xtrain = pd.DataFrame(xtrain)\n",
    "xtest = pd.DataFrame(xtest)\n"
   ]
  },
  {
   "cell_type": "code",
   "execution_count": null,
   "id": "04d2ddb4-116e-43b4-b682-ff1f76d698a9",
   "metadata": {},
   "outputs": [],
   "source": [
    "R = {'Model': [], 'Accuracy': [], 'Recall': [], 'Precision': [], 'F1': []}\n"
   ]
  },
  {
   "cell_type": "code",
   "execution_count": null,
   "id": "ba93d18a-a750-4d0b-99c4-314555c15206",
   "metadata": {},
   "outputs": [],
   "source": [
    "Results = pd.DataFrame(R)\n",
    "Results.head()"
   ]
  },
  {
   "cell_type": "code",
   "execution_count": null,
   "id": "261c674e-f228-4b2e-a614-e2af5488457f",
   "metadata": {},
   "outputs": [],
   "source": [
    "df"
   ]
  },
  {
   "cell_type": "markdown",
   "id": "01762b66-efb0-4bd5-b6d5-8fe103872471",
   "metadata": {},
   "source": [
    "## Prediction-Analyzing"
   ]
  },
  {
   "cell_type": "code",
   "execution_count": null,
   "id": "2d7191f1-deb3-4d87-b724-90db53337edc",
   "metadata": {},
   "outputs": [],
   "source": [
    "from sklearn.linear_model import LogisticRegression\n",
    "from sklearn.tree import DecisionTreeClassifier\n",
    "from sklearn.ensemble import RandomForestClassifier\n",
    "from sklearn.impute import SimpleImputer\n",
    "from sklearn.metrics import confusion_matrix, classification_report, accuracy_score, recall_score, f1_score, precision_score\n",
    "import pandas as pd\n",
    "\n",
    "# Handle missing values\n",
    "imputer = SimpleImputer(strategy='mean')\n",
    "xtrain = imputer.fit_transform(xtrain)\n",
    "xtest = imputer.transform(xtest)\n",
    "\n",
    "lr = LogisticRegression()\n",
    "dc = DecisionTreeClassifier()\n",
    "rf = RandomForestClassifier()\n",
    "\n",
    "model = [lr, dc, rf]\n",
    "\n",
    "Results = pd.DataFrame(columns=['Model', 'Accuracy', 'Recall', 'Precision', 'F1'])\n",
    "\n",
    "for models in model:\n",
    "    models.fit(xtrain, ytrain)\n",
    "    ypred = models.predict(xtest)\n",
    "    \n",
    "    print('Model :', models)\n",
    "    print('--------------------------------------------------------------------------------------------------------------')\n",
    "    print('Confusion Matrix:\\n', confusion_matrix(ytest, ypred))\n",
    "    print('Classification Report:\\n', classification_report(ytest, ypred))\n",
    "    print('Accuracy:', round(accuracy_score(ytest, ypred), 2))\n",
    "    print('Precision:', round(precision_score(ytest, ypred), 2))\n",
    "    print('Recall:', round(recall_score(ytest, ypred), 2))\n",
    "    print('F1 Score:', round(f1_score(ytest, ypred), 2))\n",
    "    \n",
    "    R = pd.DataFrame([{\n",
    "        'Model': type(models).__name__,\n",
    "        'Accuracy': round(accuracy_score(ytest, ypred), 2),\n",
    "        'Recall': round(recall_score(ytest, ypred), 2),\n",
    "        'Precision': round(precision_score(ytest, ypred), 2),\n",
    "        'F1': round(f1_score(ytest, ypred), 2)\n",
    "    }])\n",
    "    Results = pd.concat([Results, R], ignore_index=True)\n",
    "\n",
    "Results\n"
   ]
  },
  {
   "cell_type": "code",
   "execution_count": null,
   "id": "8955d648-eb0e-44e2-a6eb-8285f9e91ac3",
   "metadata": {},
   "outputs": [],
   "source": [
    "Results"
   ]
  },
  {
   "cell_type": "markdown",
   "id": "84aa7325-f8e7-48d8-9fe1-8adbc6b51483",
   "metadata": {},
   "source": [
    "## Downloading Pickle"
   ]
  },
  {
   "cell_type": "code",
   "execution_count": null,
   "id": "0ec84ee6-9bf7-4b11-bbb2-ccb5eee11be6",
   "metadata": {},
   "outputs": [],
   "source": [
    "import pickle\n",
    "for model in models:\n",
    "    filename = model.__class__.__name__+'.pkl'\n",
    "    with open(filename,'wb') as f:\n",
    "        pickle.dump(model, f)\n",
    "    print(f\"Model saved: {filename}\")"
   ]
  },
  {
   "cell_type": "code",
   "execution_count": null,
   "id": "f2d18b35-4098-4653-84f8-f88d0aaab29d",
   "metadata": {},
   "outputs": [],
   "source": []
  }
 ],
 "metadata": {
  "kernelspec": {
   "display_name": "Python [conda env:base] *",
   "language": "python",
   "name": "conda-base-py"
  },
  "language_info": {
   "codemirror_mode": {
    "name": "ipython",
    "version": 3
   },
   "file_extension": ".py",
   "mimetype": "text/x-python",
   "name": "python",
   "nbconvert_exporter": "python",
   "pygments_lexer": "ipython3",
   "version": "3.10.16"
  }
 },
 "nbformat": 4,
 "nbformat_minor": 5
}
